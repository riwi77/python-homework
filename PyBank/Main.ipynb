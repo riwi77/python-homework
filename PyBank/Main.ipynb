{
 "cells": [
  {
   "cell_type": "code",
   "execution_count": 133,
   "id": "11ef02d0-9f6e-483e-9e74-d739ebe88a3a",
   "metadata": {},
   "outputs": [
    {
     "name": "stdout",
     "output_type": "stream",
     "text": [
      "Total months: 86\n",
      "Net total amount of P_L: $38382578\n",
      "The average of change of P_L is: $-2315.1176470588234\n",
      "The Total Greatest Increase is:Feb-2012 $1926159\n",
      "The Total Greatest Decrease is:Sep-2013 $-2196167\n"
     ]
    }
   ],
   "source": [
    "from pathlib import Path\n",
    "import csv\n",
    "\n",
    "csvpath = Path('budget_data-Copy1.csv')\n",
    "\n",
    "\n",
    "\n",
    "total_month = 0\n",
    "total_pl = 0\n",
    "change = []\n",
    "row_number = 0\n",
    "prev_row = 0\n",
    "current_row = 0 \n",
    "change_month = []\n",
    "with open(csvpath, 'r') as csvfile:\n",
    "   # print(type(csvfile))\n",
    "\n",
    "    csvreader = csv.reader(csvfile, delimiter=',')\n",
    "    header = next(csvreader)\n",
    "\n",
    "\n",
    "   \n",
    "    for row in csvreader:\n",
    "        #add 1 to the total month \n",
    "        total_month +=1\n",
    "        #skip the first row \n",
    "        row_number +=1\n",
    "        #adding the profit and loss to the total P_L\n",
    "        total_pl += int(row[1])\n",
    "        #we are checking if the row number is greater than 1\n",
    "        if row_number >1:\n",
    "            #we are going to set the previous row equal to the current row variable\n",
    "            prev_row = current_row\n",
    "            #we are going to set the current row equal to the current row P_L of the csv\n",
    "            current_row = int(row[1])\n",
    "            #we are going to append the month of the change from the csv to the change month list \n",
    "            change_month.append(row[0])\n",
    "           #we are going to append the difference between the current row and the previous row of the csv tp the change list\n",
    "            change.append(current_row - prev_row)\n",
    "        else:\n",
    "            #if the previous row is not greater than 1 we are going to set the previous row to \"0\"\n",
    "            prev_row = 0 \n",
    "           #we are going to set the current row to the value of the current row in the csv\n",
    "            current_row = int(row[1])\n",
    "            \n",
    "#print(max(change))\n",
    "#print(min(change))\n",
    "Total_MC = max(change)\n",
    "Total_mC = min(change)\n",
    "#print(change_month[change.index(max(change))])\n",
    "#print(change_month[change.index(min(change))])\n",
    "Total_GI = change_month[change.index(max(change))]\n",
    "Total_GD = change_month[change.index(min(change))]\n",
    "print(\"Total months: \" + str(total_month))\n",
    "print(\"Net total amount of P_L: $\" + str(total_pl))\n",
    "print(\"The average of change of P_L is: $\" + str(sum(change) / (total_month -1)))\n",
    "print(\"The Total Greatest Increase is:\" + str(Total_GI) + \" $\" +str(Total_MC))\n",
    "print(\"The Total Greatest Decrease is:\" + str(Total_GD) + \" $\" +str(Total_mC))"
   ]
  },
  {
   "cell_type": "code",
   "execution_count": null,
   "id": "399442eb-d582-4f52-be15-e3a44682fee3",
   "metadata": {},
   "outputs": [],
   "source": []
  }
 ],
 "metadata": {
  "kernelspec": {
   "display_name": "Python 3",
   "language": "python",
   "name": "python3"
  },
  "language_info": {
   "codemirror_mode": {
    "name": "ipython",
    "version": 3
   },
   "file_extension": ".py",
   "mimetype": "text/x-python",
   "name": "python",
   "nbconvert_exporter": "python",
   "pygments_lexer": "ipython3",
   "version": "3.8.8"
  }
 },
 "nbformat": 4,
 "nbformat_minor": 5
}
